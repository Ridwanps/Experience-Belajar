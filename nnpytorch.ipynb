import torch 
from torch import nn, optim
# melakukan mco
model = nn.Sequential(
    nn.Linear(7, 16),
    nn.ReLU(),
    nn.Linear(16, 8),
    nn.ReLU(),
    nn.Linear(8, 4),
    nn.ReLU(),
    nn.Linear(4, 2),
    nn.LogSoftmax(1)
)  
criterion = nn.NLLLoss()
optimizer = optim.AdamW(model.parameters(), lr=0.001)
